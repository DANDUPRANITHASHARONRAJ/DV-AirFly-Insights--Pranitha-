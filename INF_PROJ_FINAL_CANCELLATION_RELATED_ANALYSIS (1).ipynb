{
 "cells": [
  {
   "cell_type": "markdown",
   "id": "8757c1ba-5bfa-45b8-b8b7-abbef62b06c1",
   "metadata": {},
   "source": [
    "<span style=\"color:blue; font-size:24px;\">CANCELLATION ANALYSIS</span>\n"
   ]
  },
  {
   "cell_type": "markdown",
   "id": "e79a42df-a16f-4476-a664-dab84f1e8cf6",
   "metadata": {},
   "source": [
    "<span style=\"color:yellow; font-size:20px;\">UNDERSTANDING THE DATA</span>\n"
   ]
  },
  {
   "cell_type": "markdown",
   "id": "0a66d758-6369-4ca2-affd-763950c2abc7",
   "metadata": {},
   "source": [
    "<span style=\"color:yellow; font-size:20px;\">INFO, NULL VALUES, SHAPE </span>\n"
   ]
  },
  {
   "cell_type": "code",
   "execution_count": 12,
   "id": "22596f51-8025-491e-a940-a40359fb132a",
   "metadata": {},
   "outputs": [],
   "source": [
    "import numpy as  np\n",
    "import pandas as pd\n",
    "df=pd.read_csv(r'C:\\Users\\dandu\\OneDrive\\Desktop\\INF_FINAL_PROJ\\MILESTONE 1\\RAW_DATA\\FINAL_FLIGHT_DELAYS_DATA.csv')"
   ]
  },
  {
   "cell_type": "code",
   "execution_count": 13,
   "id": "8955e0cc-5841-4a86-ab91-23ced57e9671",
   "metadata": {},
   "outputs": [
    {
     "name": "stdout",
     "output_type": "stream",
     "text": [
      "<class 'pandas.core.frame.DataFrame'>\n",
      "RangeIndex: 1048575 entries, 0 to 1048574\n",
      "Data columns (total 32 columns):\n",
      " #   Column                   Non-Null Count    Dtype  \n",
      "---  ------                   --------------    -----  \n",
      " 0   FL_DATE                  1048575 non-null  object \n",
      " 1   AIRLINE                  1048575 non-null  object \n",
      " 2   AIRLINE_DOT              1048575 non-null  object \n",
      " 3   AIRLINE_CODE             1048575 non-null  object \n",
      " 4   DOT_CODE                 1048575 non-null  int64  \n",
      " 5   FL_NUMBER                1048575 non-null  int64  \n",
      " 6   ORIGIN                   1048575 non-null  object \n",
      " 7   ORIGIN_CITY              1048575 non-null  object \n",
      " 8   DEST                     1048575 non-null  object \n",
      " 9   DEST_CITY                1048575 non-null  object \n",
      " 10  CRS_DEP_TIME             1048575 non-null  int64  \n",
      " 11  DEP_TIME                 1021527 non-null  float64\n",
      " 12  DEP_DELAY                1021518 non-null  float64\n",
      " 13  TAXI_OUT                 1021103 non-null  float64\n",
      " 14  WHEELS_OFF               1021103 non-null  float64\n",
      " 15  WHEELS_ON                1020709 non-null  float64\n",
      " 16  TAXI_IN                  1020709 non-null  float64\n",
      " 17  CRS_ARR_TIME             1048575 non-null  int64  \n",
      " 18  ARR_TIME                 1020709 non-null  float64\n",
      " 19  ARR_DELAY                1018570 non-null  float64\n",
      " 20  CANCELLED                1048575 non-null  int64  \n",
      " 21  CANCELLATION_CODE        27597 non-null    object \n",
      " 22  DIVERTED                 1048575 non-null  int64  \n",
      " 23  CRS_ELAPSED_TIME         1048568 non-null  float64\n",
      " 24  ELAPSED_TIME             1018570 non-null  float64\n",
      " 25  AIR_TIME                 1018570 non-null  float64\n",
      " 26  DISTANCE                 1048575 non-null  int64  \n",
      " 27  DELAY_DUE_CARRIER        187272 non-null   float64\n",
      " 28  DELAY_DUE_WEATHER        187272 non-null   float64\n",
      " 29  DELAY_DUE_NAS            187272 non-null   float64\n",
      " 30  DELAY_DUE_SECURITY       187272 non-null   float64\n",
      " 31  DELAY_DUE_LATE_AIRCRAFT  187272 non-null   float64\n",
      "dtypes: float64(16), int64(7), object(9)\n",
      "memory usage: 256.0+ MB\n"
     ]
    }
   ],
   "source": [
    "df.info()"
   ]
  },
  {
   "cell_type": "code",
   "execution_count": 14,
   "id": "d71767e8-e9bd-4ad6-9b05-81e17bdcf8e8",
   "metadata": {},
   "outputs": [
    {
     "data": {
      "text/plain": [
       "FL_DATE                          0\n",
       "AIRLINE                          0\n",
       "AIRLINE_DOT                      0\n",
       "AIRLINE_CODE                     0\n",
       "DOT_CODE                         0\n",
       "FL_NUMBER                        0\n",
       "ORIGIN                           0\n",
       "ORIGIN_CITY                      0\n",
       "DEST                             0\n",
       "DEST_CITY                        0\n",
       "CRS_DEP_TIME                     0\n",
       "DEP_TIME                     27048\n",
       "DEP_DELAY                    27057\n",
       "TAXI_OUT                     27472\n",
       "WHEELS_OFF                   27472\n",
       "WHEELS_ON                    27866\n",
       "TAXI_IN                      27866\n",
       "CRS_ARR_TIME                     0\n",
       "ARR_TIME                     27866\n",
       "ARR_DELAY                    30005\n",
       "CANCELLED                        0\n",
       "CANCELLATION_CODE          1020978\n",
       "DIVERTED                         0\n",
       "CRS_ELAPSED_TIME                 7\n",
       "ELAPSED_TIME                 30005\n",
       "AIR_TIME                     30005\n",
       "DISTANCE                         0\n",
       "DELAY_DUE_CARRIER           861303\n",
       "DELAY_DUE_WEATHER           861303\n",
       "DELAY_DUE_NAS               861303\n",
       "DELAY_DUE_SECURITY          861303\n",
       "DELAY_DUE_LATE_AIRCRAFT     861303\n",
       "dtype: int64"
      ]
     },
     "execution_count": 14,
     "metadata": {},
     "output_type": "execute_result"
    }
   ],
   "source": [
    "df.isnull().sum()"
   ]
  },
  {
   "cell_type": "code",
   "execution_count": 15,
   "id": "a2e49803-5abc-4ac0-b2e7-e54e87e20200",
   "metadata": {},
   "outputs": [
    {
     "data": {
      "text/plain": [
       "32"
      ]
     },
     "execution_count": 15,
     "metadata": {},
     "output_type": "execute_result"
    }
   ],
   "source": [
    "df.shape[1]"
   ]
  },
  {
   "cell_type": "code",
   "execution_count": 16,
   "id": "62ed2dab-ca0a-4b64-bc72-41338e002a73",
   "metadata": {},
   "outputs": [
    {
     "data": {
      "text/plain": [
       "1048575"
      ]
     },
     "execution_count": 16,
     "metadata": {},
     "output_type": "execute_result"
    }
   ],
   "source": [
    "df.shape[0]"
   ]
  },
  {
   "cell_type": "markdown",
   "id": "ba6811c3-c036-41b9-b8f6-6737722d4ad9",
   "metadata": {},
   "source": [
    "<span style=\"color:yellow; font-size:20px;\">DATA CLEANING</span>\n"
   ]
  },
  {
   "cell_type": "markdown",
   "id": "2ff5cb89-9921-4a4b-a65f-da62b197df88",
   "metadata": {},
   "source": [
    "<span style=\"color:yellow; font-size:20px;\">DUPLICATES, DATE/TIME FORMAT, DELETE NOISE DATA, HANDLE NULLS(RELATED TO DEPARTURE AND ARRIVAL), PREPROCESSED DATA.</span>"
   ]
  },
  {
   "cell_type": "code",
   "execution_count": 17,
   "id": "ef36db65-0dd7-4230-a23e-f87c21a984dd",
   "metadata": {},
   "outputs": [],
   "source": [
    "# clean column names\n",
    "df.columns = df.columns.str.strip()\n",
    "\n",
    "# check duplicates\n",
    "df = df.drop_duplicates()\n"
   ]
  },
  {
   "cell_type": "markdown",
   "id": "5379450f-c3f2-4f33-be23-7082649df3f3",
   "metadata": {},
   "source": [
    "<span style=\"color:yellow; font-size:20px;\">DEPARTURE RELATED CLEANING</span>\n"
   ]
  },
  {
   "cell_type": "code",
   "execution_count": 18,
   "id": "7af10e62-4533-45af-a813-0af8373d467f",
   "metadata": {},
   "outputs": [],
   "source": [
    "def hhmm_to_hhmmstr(x):\n",
    "    \"\"\"\n",
    "    Convert int in HHMM format to HH:MM string.\n",
    "    Example: 1 -> 00:01, 59 -> 00:59, 100 -> 01:00, 2359 -> 23:59\n",
    "    \"\"\"\n",
    "    if pd.isna(x):\n",
    "        return np.nan\n",
    "    x = int(x)\n",
    "    hh, mm = divmod(x, 100)\n",
    "    return f\"{hh:02d}:{mm:02d}\"\n"
   ]
  },
  {
   "cell_type": "code",
   "execution_count": 19,
   "id": "be70860d-4a36-4c71-bf07-b062dd3e7354",
   "metadata": {},
   "outputs": [],
   "source": [
    "df['CRS_DEP_TIME_CLEAN'] = df['CRS_DEP_TIME'].apply(hhmm_to_hhmmstr)\n"
   ]
  },
  {
   "cell_type": "code",
   "execution_count": 20,
   "id": "cbf9c0c3-baa6-4f68-a6fe-3744f8a43a6a",
   "metadata": {},
   "outputs": [],
   "source": [
    "df['DEP_TIME_CLEAN'] = df['DEP_TIME'].apply(lambda x: hhmm_to_hhmmstr(x) if pd.notna(x) else np.nan)\n"
   ]
  },
  {
   "cell_type": "code",
   "execution_count": 21,
   "id": "9ec61220-57ae-40a5-a9d7-59ab884096b1",
   "metadata": {},
   "outputs": [],
   "source": [
    "mask_noise = df['DEP_DELAY'].isna() & df['DEP_TIME'].notna()\n",
    "df = df.drop(df[mask_noise].index)\n",
    "\n",
    "# now impute remaining with NaN (already NaN)\n",
    "df['DEP_DELAY_CLEAN'] = df['DEP_DELAY']\n"
   ]
  },
  {
   "cell_type": "code",
   "execution_count": 22,
   "id": "a0ab632c-611b-4a02-be8c-996aeae75222",
   "metadata": {},
   "outputs": [],
   "source": [
    "mask_noise = df['TAXI_OUT'].isna() & df['DEP_TIME'].notna()\n",
    "df = df.drop(df[mask_noise].index)\n",
    "\n",
    "df['TAXI_OUT_CLEAN'] = df['TAXI_OUT']  # keep NaN where genuine\n"
   ]
  },
  {
   "cell_type": "code",
   "execution_count": 23,
   "id": "4ea06278-c639-4172-a1c1-59e630417d7f",
   "metadata": {},
   "outputs": [],
   "source": [
    "mask_noise = df['WHEELS_OFF'].isna() & df['DEP_TIME'].notna()\n",
    "df = df.drop(df[mask_noise].index)\n",
    "\n",
    "df['WHEELS_OFF_CLEAN'] = df['WHEELS_OFF'].apply(lambda x: hhmm_to_hhmmstr(x) if pd.notna(x) else np.nan)\n"
   ]
  },
  {
   "cell_type": "code",
   "execution_count": 24,
   "id": "60676b2d-14d0-4e5f-a820-5fd9df1ecb34",
   "metadata": {},
   "outputs": [
    {
     "data": {
      "text/html": [
       "<div>\n",
       "<style scoped>\n",
       "    .dataframe tbody tr th:only-of-type {\n",
       "        vertical-align: middle;\n",
       "    }\n",
       "\n",
       "    .dataframe tbody tr th {\n",
       "        vertical-align: top;\n",
       "    }\n",
       "\n",
       "    .dataframe thead th {\n",
       "        text-align: right;\n",
       "    }\n",
       "</style>\n",
       "<table border=\"1\" class=\"dataframe\">\n",
       "  <thead>\n",
       "    <tr style=\"text-align: right;\">\n",
       "      <th></th>\n",
       "      <th>FL_DATE</th>\n",
       "      <th>AIRLINE</th>\n",
       "      <th>AIRLINE_DOT</th>\n",
       "      <th>AIRLINE_CODE</th>\n",
       "      <th>DOT_CODE</th>\n",
       "      <th>FL_NUMBER</th>\n",
       "      <th>ORIGIN</th>\n",
       "      <th>ORIGIN_CITY</th>\n",
       "      <th>DEST</th>\n",
       "      <th>DEST_CITY</th>\n",
       "      <th>...</th>\n",
       "      <th>DELAY_DUE_CARRIER</th>\n",
       "      <th>DELAY_DUE_WEATHER</th>\n",
       "      <th>DELAY_DUE_NAS</th>\n",
       "      <th>DELAY_DUE_SECURITY</th>\n",
       "      <th>DELAY_DUE_LATE_AIRCRAFT</th>\n",
       "      <th>CRS_DEP_TIME_CLEAN</th>\n",
       "      <th>DEP_TIME_CLEAN</th>\n",
       "      <th>DEP_DELAY_CLEAN</th>\n",
       "      <th>TAXI_OUT_CLEAN</th>\n",
       "      <th>WHEELS_OFF_CLEAN</th>\n",
       "    </tr>\n",
       "  </thead>\n",
       "  <tbody>\n",
       "    <tr>\n",
       "      <th>0</th>\n",
       "      <td>01-01-2019</td>\n",
       "      <td>Delta Air Lines Inc.</td>\n",
       "      <td>Delta Air Lines Inc.: DL</td>\n",
       "      <td>DL</td>\n",
       "      <td>19790</td>\n",
       "      <td>345</td>\n",
       "      <td>ATL</td>\n",
       "      <td>Atlanta, GA</td>\n",
       "      <td>DAB</td>\n",
       "      <td>Daytona Beach, FL</td>\n",
       "      <td>...</td>\n",
       "      <td>NaN</td>\n",
       "      <td>NaN</td>\n",
       "      <td>NaN</td>\n",
       "      <td>NaN</td>\n",
       "      <td>NaN</td>\n",
       "      <td>09:39</td>\n",
       "      <td>09:35</td>\n",
       "      <td>-4.0</td>\n",
       "      <td>12.0</td>\n",
       "      <td>09:47</td>\n",
       "    </tr>\n",
       "    <tr>\n",
       "      <th>1</th>\n",
       "      <td>01-01-2019</td>\n",
       "      <td>Southwest Airlines Co.</td>\n",
       "      <td>Southwest Airlines Co.: WN</td>\n",
       "      <td>WN</td>\n",
       "      <td>19393</td>\n",
       "      <td>1780</td>\n",
       "      <td>BHM</td>\n",
       "      <td>Birmingham, AL</td>\n",
       "      <td>MDW</td>\n",
       "      <td>Chicago, IL</td>\n",
       "      <td>...</td>\n",
       "      <td>NaN</td>\n",
       "      <td>NaN</td>\n",
       "      <td>NaN</td>\n",
       "      <td>NaN</td>\n",
       "      <td>NaN</td>\n",
       "      <td>17:40</td>\n",
       "      <td>NaN</td>\n",
       "      <td>NaN</td>\n",
       "      <td>NaN</td>\n",
       "      <td>NaN</td>\n",
       "    </tr>\n",
       "    <tr>\n",
       "      <th>2</th>\n",
       "      <td>01-01-2019</td>\n",
       "      <td>United Air Lines Inc.</td>\n",
       "      <td>United Air Lines Inc.: UA</td>\n",
       "      <td>UA</td>\n",
       "      <td>19977</td>\n",
       "      <td>438</td>\n",
       "      <td>IAH</td>\n",
       "      <td>Houston, TX</td>\n",
       "      <td>SEA</td>\n",
       "      <td>Seattle, WA</td>\n",
       "      <td>...</td>\n",
       "      <td>NaN</td>\n",
       "      <td>NaN</td>\n",
       "      <td>NaN</td>\n",
       "      <td>NaN</td>\n",
       "      <td>NaN</td>\n",
       "      <td>09:35</td>\n",
       "      <td>09:30</td>\n",
       "      <td>-5.0</td>\n",
       "      <td>21.0</td>\n",
       "      <td>09:51</td>\n",
       "    </tr>\n",
       "    <tr>\n",
       "      <th>3</th>\n",
       "      <td>01-01-2019</td>\n",
       "      <td>American Airlines Inc.</td>\n",
       "      <td>American Airlines Inc.: AA</td>\n",
       "      <td>AA</td>\n",
       "      <td>19805</td>\n",
       "      <td>1674</td>\n",
       "      <td>LAX</td>\n",
       "      <td>Los Angeles, CA</td>\n",
       "      <td>CLT</td>\n",
       "      <td>Charlotte, NC</td>\n",
       "      <td>...</td>\n",
       "      <td>NaN</td>\n",
       "      <td>NaN</td>\n",
       "      <td>NaN</td>\n",
       "      <td>NaN</td>\n",
       "      <td>NaN</td>\n",
       "      <td>11:36</td>\n",
       "      <td>11:38</td>\n",
       "      <td>2.0</td>\n",
       "      <td>15.0</td>\n",
       "      <td>11:53</td>\n",
       "    </tr>\n",
       "    <tr>\n",
       "      <th>4</th>\n",
       "      <td>01-01-2019</td>\n",
       "      <td>Southwest Airlines Co.</td>\n",
       "      <td>Southwest Airlines Co.: WN</td>\n",
       "      <td>WN</td>\n",
       "      <td>19393</td>\n",
       "      <td>1283</td>\n",
       "      <td>MDW</td>\n",
       "      <td>Chicago, IL</td>\n",
       "      <td>LGA</td>\n",
       "      <td>New York, NY</td>\n",
       "      <td>...</td>\n",
       "      <td>17.0</td>\n",
       "      <td>0.0</td>\n",
       "      <td>2.0</td>\n",
       "      <td>0.0</td>\n",
       "      <td>100.0</td>\n",
       "      <td>17:05</td>\n",
       "      <td>19:02</td>\n",
       "      <td>117.0</td>\n",
       "      <td>31.0</td>\n",
       "      <td>19:33</td>\n",
       "    </tr>\n",
       "  </tbody>\n",
       "</table>\n",
       "<p>5 rows × 37 columns</p>\n",
       "</div>"
      ],
      "text/plain": [
       "      FL_DATE                 AIRLINE                 AIRLINE_DOT  \\\n",
       "0  01-01-2019    Delta Air Lines Inc.    Delta Air Lines Inc.: DL   \n",
       "1  01-01-2019  Southwest Airlines Co.  Southwest Airlines Co.: WN   \n",
       "2  01-01-2019   United Air Lines Inc.   United Air Lines Inc.: UA   \n",
       "3  01-01-2019  American Airlines Inc.  American Airlines Inc.: AA   \n",
       "4  01-01-2019  Southwest Airlines Co.  Southwest Airlines Co.: WN   \n",
       "\n",
       "  AIRLINE_CODE  DOT_CODE  FL_NUMBER ORIGIN      ORIGIN_CITY DEST  \\\n",
       "0           DL     19790        345    ATL      Atlanta, GA  DAB   \n",
       "1           WN     19393       1780    BHM   Birmingham, AL  MDW   \n",
       "2           UA     19977        438    IAH      Houston, TX  SEA   \n",
       "3           AA     19805       1674    LAX  Los Angeles, CA  CLT   \n",
       "4           WN     19393       1283    MDW      Chicago, IL  LGA   \n",
       "\n",
       "           DEST_CITY  ...  DELAY_DUE_CARRIER  DELAY_DUE_WEATHER  \\\n",
       "0  Daytona Beach, FL  ...                NaN                NaN   \n",
       "1        Chicago, IL  ...                NaN                NaN   \n",
       "2        Seattle, WA  ...                NaN                NaN   \n",
       "3      Charlotte, NC  ...                NaN                NaN   \n",
       "4       New York, NY  ...               17.0                0.0   \n",
       "\n",
       "   DELAY_DUE_NAS  DELAY_DUE_SECURITY  DELAY_DUE_LATE_AIRCRAFT  \\\n",
       "0            NaN                 NaN                      NaN   \n",
       "1            NaN                 NaN                      NaN   \n",
       "2            NaN                 NaN                      NaN   \n",
       "3            NaN                 NaN                      NaN   \n",
       "4            2.0                 0.0                    100.0   \n",
       "\n",
       "   CRS_DEP_TIME_CLEAN  DEP_TIME_CLEAN  DEP_DELAY_CLEAN  TAXI_OUT_CLEAN  \\\n",
       "0               09:39           09:35             -4.0            12.0   \n",
       "1               17:40             NaN              NaN             NaN   \n",
       "2               09:35           09:30             -5.0            21.0   \n",
       "3               11:36           11:38              2.0            15.0   \n",
       "4               17:05           19:02            117.0            31.0   \n",
       "\n",
       "   WHEELS_OFF_CLEAN  \n",
       "0             09:47  \n",
       "1               NaN  \n",
       "2             09:51  \n",
       "3             11:53  \n",
       "4             19:33  \n",
       "\n",
       "[5 rows x 37 columns]"
      ]
     },
     "execution_count": 24,
     "metadata": {},
     "output_type": "execute_result"
    }
   ],
   "source": [
    "df.head()"
   ]
  },
  {
   "cell_type": "code",
   "execution_count": 25,
   "id": "45b7bab8-4388-41b7-b3cd-f75c6fc168b3",
   "metadata": {},
   "outputs": [
    {
     "data": {
      "text/plain": [
       "FL_DATE                          0\n",
       "AIRLINE                          0\n",
       "AIRLINE_DOT                      0\n",
       "AIRLINE_CODE                     0\n",
       "DOT_CODE                         0\n",
       "FL_NUMBER                        0\n",
       "ORIGIN                           0\n",
       "ORIGIN_CITY                      0\n",
       "DEST                             0\n",
       "DEST_CITY                        0\n",
       "CRS_DEP_TIME                     0\n",
       "DEP_TIME                     27048\n",
       "DEP_DELAY                    27048\n",
       "TAXI_OUT                     27048\n",
       "WHEELS_OFF                   27048\n",
       "WHEELS_ON                    27442\n",
       "TAXI_IN                      27442\n",
       "CRS_ARR_TIME                     0\n",
       "ARR_TIME                     27442\n",
       "ARR_DELAY                    29581\n",
       "CANCELLED                        0\n",
       "CANCELLATION_CODE          1020978\n",
       "DIVERTED                         0\n",
       "CRS_ELAPSED_TIME                 7\n",
       "ELAPSED_TIME                 29581\n",
       "AIR_TIME                     29581\n",
       "DISTANCE                         0\n",
       "DELAY_DUE_CARRIER           860879\n",
       "DELAY_DUE_WEATHER           860879\n",
       "DELAY_DUE_NAS               860879\n",
       "DELAY_DUE_SECURITY          860879\n",
       "DELAY_DUE_LATE_AIRCRAFT     860879\n",
       "CRS_DEP_TIME_CLEAN               0\n",
       "DEP_TIME_CLEAN               27048\n",
       "DEP_DELAY_CLEAN              27048\n",
       "TAXI_OUT_CLEAN               27048\n",
       "WHEELS_OFF_CLEAN             27048\n",
       "dtype: int64"
      ]
     },
     "execution_count": 25,
     "metadata": {},
     "output_type": "execute_result"
    }
   ],
   "source": [
    "df.isnull().sum()"
   ]
  },
  {
   "cell_type": "markdown",
   "id": "5690bdc3-a51c-4edd-a355-fe4c2e55e1a9",
   "metadata": {},
   "source": [
    "<span style=\"color:yellow; font-size:20px;\">ARRIVAL RELATED CLEANING</span>\n",
    "\n"
   ]
  },
  {
   "cell_type": "code",
   "execution_count": 26,
   "id": "58e2d05e-bf70-4ee6-b24a-d9a75ae07719",
   "metadata": {},
   "outputs": [],
   "source": [
    "def hhmm_to_hhmmstr(x):\n",
    "    \"\"\"\n",
    "    Convert int in HHMM format to HH:MM string.\n",
    "    Handles: 1 -> 00:01, 59 -> 00:59, 100 -> 01:00, ..., 2359 -> 23:59\n",
    "    \"\"\"\n",
    "    if pd.isna(x):\n",
    "        return np.nan\n",
    "    x = int(x)\n",
    "    hh, mm = divmod(x, 100)\n",
    "    return f\"{hh:02d}:{mm:02d}\"\n"
   ]
  },
  {
   "cell_type": "code",
   "execution_count": 27,
   "id": "c6890a07-97d0-4b45-a829-87b4751cb99b",
   "metadata": {},
   "outputs": [],
   "source": [
    "mask_noise = df['WHEELS_ON'].isna() & df['DEP_TIME'].notna()\n",
    "df = df.drop(df[mask_noise].index)\n",
    "\n",
    "df['WHEELS_ON_CLEAN'] = df['WHEELS_ON'].apply(lambda x: hhmm_to_hhmmstr(x) if pd.notna(x) else np.nan)\n"
   ]
  },
  {
   "cell_type": "code",
   "execution_count": 28,
   "id": "c2bc51bc-6e02-412b-8fe8-d4ede2a64ff9",
   "metadata": {},
   "outputs": [],
   "source": [
    "mask_noise = df['TAXI_IN'].isna() & df['DEP_TIME'].notna()\n",
    "df = df.drop(df[mask_noise].index)\n",
    "\n",
    "df['TAXI_IN_CLEAN'] = df['TAXI_IN']\n"
   ]
  },
  {
   "cell_type": "code",
   "execution_count": 29,
   "id": "00202148-02ea-4277-919d-7c62439125a5",
   "metadata": {},
   "outputs": [],
   "source": [
    "mask_noise = df['ARR_TIME'].isna() & df['DEP_TIME'].notna()\n",
    "df = df.drop(df[mask_noise].index)\n",
    "\n",
    "df['ARR_TIME_CLEAN'] = df['ARR_TIME'].apply(lambda x: hhmm_to_hhmmstr(x) if pd.notna(x) else np.nan)\n"
   ]
  },
  {
   "cell_type": "code",
   "execution_count": 30,
   "id": "ebe2659e-a844-4cb5-a6d9-21439be78223",
   "metadata": {},
   "outputs": [],
   "source": [
    "mask_noise = df['ARR_DELAY'].isna() & df['DEP_TIME'].notna()\n",
    "df = df.drop(df[mask_noise].index)\n",
    "\n",
    "df['ARR_DELAY_CLEAN'] = df['ARR_DELAY']\n"
   ]
  },
  {
   "cell_type": "code",
   "execution_count": 31,
   "id": "9f67d022-c358-4c2b-8434-5d7f95ffa6fe",
   "metadata": {},
   "outputs": [],
   "source": [
    "# Convert CRS_ARR_TIME HHMM → HH:MM\n",
    "df['CRS_ARR_TIME_CLEAN'] = df['CRS_ARR_TIME'].apply(lambda x: hhmm_to_hhmmstr(x) if pd.notna(x) else np.nan)\n"
   ]
  },
  {
   "cell_type": "code",
   "execution_count": 32,
   "id": "c29b22e6-c578-402c-91ac-b7040d870cbc",
   "metadata": {},
   "outputs": [
    {
     "data": {
      "text/html": [
       "<div>\n",
       "<style scoped>\n",
       "    .dataframe tbody tr th:only-of-type {\n",
       "        vertical-align: middle;\n",
       "    }\n",
       "\n",
       "    .dataframe tbody tr th {\n",
       "        vertical-align: top;\n",
       "    }\n",
       "\n",
       "    .dataframe thead th {\n",
       "        text-align: right;\n",
       "    }\n",
       "</style>\n",
       "<table border=\"1\" class=\"dataframe\">\n",
       "  <thead>\n",
       "    <tr style=\"text-align: right;\">\n",
       "      <th></th>\n",
       "      <th>FL_DATE</th>\n",
       "      <th>AIRLINE</th>\n",
       "      <th>AIRLINE_DOT</th>\n",
       "      <th>AIRLINE_CODE</th>\n",
       "      <th>DOT_CODE</th>\n",
       "      <th>FL_NUMBER</th>\n",
       "      <th>ORIGIN</th>\n",
       "      <th>ORIGIN_CITY</th>\n",
       "      <th>DEST</th>\n",
       "      <th>DEST_CITY</th>\n",
       "      <th>...</th>\n",
       "      <th>CRS_DEP_TIME_CLEAN</th>\n",
       "      <th>DEP_TIME_CLEAN</th>\n",
       "      <th>DEP_DELAY_CLEAN</th>\n",
       "      <th>TAXI_OUT_CLEAN</th>\n",
       "      <th>WHEELS_OFF_CLEAN</th>\n",
       "      <th>WHEELS_ON_CLEAN</th>\n",
       "      <th>TAXI_IN_CLEAN</th>\n",
       "      <th>ARR_TIME_CLEAN</th>\n",
       "      <th>ARR_DELAY_CLEAN</th>\n",
       "      <th>CRS_ARR_TIME_CLEAN</th>\n",
       "    </tr>\n",
       "  </thead>\n",
       "  <tbody>\n",
       "    <tr>\n",
       "      <th>0</th>\n",
       "      <td>01-01-2019</td>\n",
       "      <td>Delta Air Lines Inc.</td>\n",
       "      <td>Delta Air Lines Inc.: DL</td>\n",
       "      <td>DL</td>\n",
       "      <td>19790</td>\n",
       "      <td>345</td>\n",
       "      <td>ATL</td>\n",
       "      <td>Atlanta, GA</td>\n",
       "      <td>DAB</td>\n",
       "      <td>Daytona Beach, FL</td>\n",
       "      <td>...</td>\n",
       "      <td>09:39</td>\n",
       "      <td>09:35</td>\n",
       "      <td>-4.0</td>\n",
       "      <td>12.0</td>\n",
       "      <td>09:47</td>\n",
       "      <td>10:41</td>\n",
       "      <td>3.0</td>\n",
       "      <td>10:44</td>\n",
       "      <td>-11.0</td>\n",
       "      <td>10:55</td>\n",
       "    </tr>\n",
       "    <tr>\n",
       "      <th>1</th>\n",
       "      <td>01-01-2019</td>\n",
       "      <td>Southwest Airlines Co.</td>\n",
       "      <td>Southwest Airlines Co.: WN</td>\n",
       "      <td>WN</td>\n",
       "      <td>19393</td>\n",
       "      <td>1780</td>\n",
       "      <td>BHM</td>\n",
       "      <td>Birmingham, AL</td>\n",
       "      <td>MDW</td>\n",
       "      <td>Chicago, IL</td>\n",
       "      <td>...</td>\n",
       "      <td>17:40</td>\n",
       "      <td>NaN</td>\n",
       "      <td>NaN</td>\n",
       "      <td>NaN</td>\n",
       "      <td>NaN</td>\n",
       "      <td>NaN</td>\n",
       "      <td>NaN</td>\n",
       "      <td>NaN</td>\n",
       "      <td>NaN</td>\n",
       "      <td>19:25</td>\n",
       "    </tr>\n",
       "    <tr>\n",
       "      <th>2</th>\n",
       "      <td>01-01-2019</td>\n",
       "      <td>United Air Lines Inc.</td>\n",
       "      <td>United Air Lines Inc.: UA</td>\n",
       "      <td>UA</td>\n",
       "      <td>19977</td>\n",
       "      <td>438</td>\n",
       "      <td>IAH</td>\n",
       "      <td>Houston, TX</td>\n",
       "      <td>SEA</td>\n",
       "      <td>Seattle, WA</td>\n",
       "      <td>...</td>\n",
       "      <td>09:35</td>\n",
       "      <td>09:30</td>\n",
       "      <td>-5.0</td>\n",
       "      <td>21.0</td>\n",
       "      <td>09:51</td>\n",
       "      <td>12:02</td>\n",
       "      <td>9.0</td>\n",
       "      <td>12:11</td>\n",
       "      <td>-18.0</td>\n",
       "      <td>12:29</td>\n",
       "    </tr>\n",
       "    <tr>\n",
       "      <th>3</th>\n",
       "      <td>01-01-2019</td>\n",
       "      <td>American Airlines Inc.</td>\n",
       "      <td>American Airlines Inc.: AA</td>\n",
       "      <td>AA</td>\n",
       "      <td>19805</td>\n",
       "      <td>1674</td>\n",
       "      <td>LAX</td>\n",
       "      <td>Los Angeles, CA</td>\n",
       "      <td>CLT</td>\n",
       "      <td>Charlotte, NC</td>\n",
       "      <td>...</td>\n",
       "      <td>11:36</td>\n",
       "      <td>11:38</td>\n",
       "      <td>2.0</td>\n",
       "      <td>15.0</td>\n",
       "      <td>11:53</td>\n",
       "      <td>18:56</td>\n",
       "      <td>16.0</td>\n",
       "      <td>19:12</td>\n",
       "      <td>-3.0</td>\n",
       "      <td>19:15</td>\n",
       "    </tr>\n",
       "    <tr>\n",
       "      <th>4</th>\n",
       "      <td>01-01-2019</td>\n",
       "      <td>Southwest Airlines Co.</td>\n",
       "      <td>Southwest Airlines Co.: WN</td>\n",
       "      <td>WN</td>\n",
       "      <td>19393</td>\n",
       "      <td>1283</td>\n",
       "      <td>MDW</td>\n",
       "      <td>Chicago, IL</td>\n",
       "      <td>LGA</td>\n",
       "      <td>New York, NY</td>\n",
       "      <td>...</td>\n",
       "      <td>17:05</td>\n",
       "      <td>19:02</td>\n",
       "      <td>117.0</td>\n",
       "      <td>31.0</td>\n",
       "      <td>19:33</td>\n",
       "      <td>21:54</td>\n",
       "      <td>5.0</td>\n",
       "      <td>21:59</td>\n",
       "      <td>119.0</td>\n",
       "      <td>20:00</td>\n",
       "    </tr>\n",
       "  </tbody>\n",
       "</table>\n",
       "<p>5 rows × 42 columns</p>\n",
       "</div>"
      ],
      "text/plain": [
       "      FL_DATE                 AIRLINE                 AIRLINE_DOT  \\\n",
       "0  01-01-2019    Delta Air Lines Inc.    Delta Air Lines Inc.: DL   \n",
       "1  01-01-2019  Southwest Airlines Co.  Southwest Airlines Co.: WN   \n",
       "2  01-01-2019   United Air Lines Inc.   United Air Lines Inc.: UA   \n",
       "3  01-01-2019  American Airlines Inc.  American Airlines Inc.: AA   \n",
       "4  01-01-2019  Southwest Airlines Co.  Southwest Airlines Co.: WN   \n",
       "\n",
       "  AIRLINE_CODE  DOT_CODE  FL_NUMBER ORIGIN      ORIGIN_CITY DEST  \\\n",
       "0           DL     19790        345    ATL      Atlanta, GA  DAB   \n",
       "1           WN     19393       1780    BHM   Birmingham, AL  MDW   \n",
       "2           UA     19977        438    IAH      Houston, TX  SEA   \n",
       "3           AA     19805       1674    LAX  Los Angeles, CA  CLT   \n",
       "4           WN     19393       1283    MDW      Chicago, IL  LGA   \n",
       "\n",
       "           DEST_CITY  ...  CRS_DEP_TIME_CLEAN  DEP_TIME_CLEAN  \\\n",
       "0  Daytona Beach, FL  ...               09:39           09:35   \n",
       "1        Chicago, IL  ...               17:40             NaN   \n",
       "2        Seattle, WA  ...               09:35           09:30   \n",
       "3      Charlotte, NC  ...               11:36           11:38   \n",
       "4       New York, NY  ...               17:05           19:02   \n",
       "\n",
       "   DEP_DELAY_CLEAN  TAXI_OUT_CLEAN  WHEELS_OFF_CLEAN  WHEELS_ON_CLEAN  \\\n",
       "0             -4.0            12.0             09:47            10:41   \n",
       "1              NaN             NaN               NaN              NaN   \n",
       "2             -5.0            21.0             09:51            12:02   \n",
       "3              2.0            15.0             11:53            18:56   \n",
       "4            117.0            31.0             19:33            21:54   \n",
       "\n",
       "   TAXI_IN_CLEAN  ARR_TIME_CLEAN  ARR_DELAY_CLEAN  CRS_ARR_TIME_CLEAN  \n",
       "0            3.0           10:44            -11.0               10:55  \n",
       "1            NaN             NaN              NaN               19:25  \n",
       "2            9.0           12:11            -18.0               12:29  \n",
       "3           16.0           19:12             -3.0               19:15  \n",
       "4            5.0           21:59            119.0               20:00  \n",
       "\n",
       "[5 rows x 42 columns]"
      ]
     },
     "execution_count": 32,
     "metadata": {},
     "output_type": "execute_result"
    }
   ],
   "source": [
    "df.head()"
   ]
  },
  {
   "cell_type": "code",
   "execution_count": 33,
   "id": "3b633611-4192-4006-9722-02bce3e8a36d",
   "metadata": {},
   "outputs": [
    {
     "data": {
      "text/plain": [
       "FL_DATE                          0\n",
       "AIRLINE                          0\n",
       "AIRLINE_DOT                      0\n",
       "AIRLINE_CODE                     0\n",
       "DOT_CODE                         0\n",
       "FL_NUMBER                        0\n",
       "ORIGIN                           0\n",
       "ORIGIN_CITY                      0\n",
       "DEST                             0\n",
       "DEST_CITY                        0\n",
       "CRS_DEP_TIME                     0\n",
       "DEP_TIME                     27048\n",
       "DEP_DELAY                    27048\n",
       "TAXI_OUT                     27048\n",
       "WHEELS_OFF                   27048\n",
       "WHEELS_ON                    27048\n",
       "TAXI_IN                      27048\n",
       "CRS_ARR_TIME                     0\n",
       "ARR_TIME                     27048\n",
       "ARR_DELAY                    27048\n",
       "CANCELLED                        0\n",
       "CANCELLATION_CODE          1018570\n",
       "DIVERTED                         0\n",
       "CRS_ELAPSED_TIME                 7\n",
       "ELAPSED_TIME                 27048\n",
       "AIR_TIME                     27048\n",
       "DISTANCE                         0\n",
       "DELAY_DUE_CARRIER           858346\n",
       "DELAY_DUE_WEATHER           858346\n",
       "DELAY_DUE_NAS               858346\n",
       "DELAY_DUE_SECURITY          858346\n",
       "DELAY_DUE_LATE_AIRCRAFT     858346\n",
       "CRS_DEP_TIME_CLEAN               0\n",
       "DEP_TIME_CLEAN               27048\n",
       "DEP_DELAY_CLEAN              27048\n",
       "TAXI_OUT_CLEAN               27048\n",
       "WHEELS_OFF_CLEAN             27048\n",
       "WHEELS_ON_CLEAN              27048\n",
       "TAXI_IN_CLEAN                27048\n",
       "ARR_TIME_CLEAN               27048\n",
       "ARR_DELAY_CLEAN              27048\n",
       "CRS_ARR_TIME_CLEAN               0\n",
       "dtype: int64"
      ]
     },
     "execution_count": 33,
     "metadata": {},
     "output_type": "execute_result"
    }
   ],
   "source": [
    "df.isnull().sum()"
   ]
  },
  {
   "cell_type": "markdown",
   "id": "5f43c157-d6a7-4b3c-9045-2cf028359ce7",
   "metadata": {},
   "source": [
    "<span style=\"color:yellow; font-size:20px;\">DROPPING OLD DATA AFTER MAKING NEW CRCTED COLS</span>\n",
    "\n"
   ]
  },
  {
   "cell_type": "code",
   "execution_count": 34,
   "id": "28459741-fd01-4445-971d-bfab3b88fc77",
   "metadata": {},
   "outputs": [],
   "source": [
    "# List of original columns to drop\n",
    "cols_to_drop = [\n",
    "    'CRS_DEP_TIME', 'DEP_TIME', 'DEP_DELAY', 'TAXI_OUT', 'WHEELS_OFF',\n",
    "    'WHEELS_ON', 'TAXI_IN', 'CRS_ARR_TIME', 'ARR_TIME', 'ARR_DELAY'\n",
    "]\n",
    "\n",
    "# Drop them from the DataFrame\n",
    "df = df.drop(columns=cols_to_drop)\n",
    "\n",
    "\n"
   ]
  },
  {
   "cell_type": "code",
   "execution_count": 35,
   "id": "56ecbe13-6339-478d-839d-a04c98b26e2d",
   "metadata": {},
   "outputs": [
    {
     "data": {
      "text/plain": [
       "1045618"
      ]
     },
     "execution_count": 35,
     "metadata": {},
     "output_type": "execute_result"
    }
   ],
   "source": [
    "df.shape[0]"
   ]
  },
  {
   "cell_type": "code",
   "execution_count": 36,
   "id": "97772124-e80b-42fd-8bfe-8e13c84ffe6d",
   "metadata": {},
   "outputs": [
    {
     "data": {
      "text/plain": [
       "32"
      ]
     },
     "execution_count": 36,
     "metadata": {},
     "output_type": "execute_result"
    }
   ],
   "source": [
    "df.shape[1]"
   ]
  },
  {
   "cell_type": "code",
   "execution_count": 37,
   "id": "4f6a336d-1ba7-496d-bda6-b709ce4632b6",
   "metadata": {},
   "outputs": [
    {
     "data": {
      "text/plain": [
       "FL_DATE                          0\n",
       "AIRLINE                          0\n",
       "AIRLINE_DOT                      0\n",
       "AIRLINE_CODE                     0\n",
       "DOT_CODE                         0\n",
       "FL_NUMBER                        0\n",
       "ORIGIN                           0\n",
       "ORIGIN_CITY                      0\n",
       "DEST                             0\n",
       "DEST_CITY                        0\n",
       "CANCELLED                        0\n",
       "CANCELLATION_CODE          1018570\n",
       "DIVERTED                         0\n",
       "CRS_ELAPSED_TIME                 7\n",
       "ELAPSED_TIME                 27048\n",
       "AIR_TIME                     27048\n",
       "DISTANCE                         0\n",
       "DELAY_DUE_CARRIER           858346\n",
       "DELAY_DUE_WEATHER           858346\n",
       "DELAY_DUE_NAS               858346\n",
       "DELAY_DUE_SECURITY          858346\n",
       "DELAY_DUE_LATE_AIRCRAFT     858346\n",
       "CRS_DEP_TIME_CLEAN               0\n",
       "DEP_TIME_CLEAN               27048\n",
       "DEP_DELAY_CLEAN              27048\n",
       "TAXI_OUT_CLEAN               27048\n",
       "WHEELS_OFF_CLEAN             27048\n",
       "WHEELS_ON_CLEAN              27048\n",
       "TAXI_IN_CLEAN                27048\n",
       "ARR_TIME_CLEAN               27048\n",
       "ARR_DELAY_CLEAN              27048\n",
       "CRS_ARR_TIME_CLEAN               0\n",
       "dtype: int64"
      ]
     },
     "execution_count": 37,
     "metadata": {},
     "output_type": "execute_result"
    }
   ],
   "source": [
    "df.isnull().sum()"
   ]
  },
  {
   "cell_type": "markdown",
   "id": "2ecbe355-e91e-4b36-af68-2321405f8175",
   "metadata": {},
   "source": [
    "<span style=\"color:yellow; font-size:20px;\">IMPUTATION</span>\n",
    "\n"
   ]
  },
  {
   "cell_type": "code",
   "execution_count": 38,
   "id": "33e9a012-9183-48a0-89ac-cf8ee92d634f",
   "metadata": {},
   "outputs": [],
   "source": [
    "import numpy as np\n",
    "\n",
    "# 1️⃣ CANCELLATION_CODE: replace blanks / NaN with 'N'\n",
    "df['CANCELLATION_CODE'] = df['CANCELLATION_CODE'].replace('', 'N').fillna('N')\n",
    "\n",
    "# 2️⃣ ELAPSED_TIME and AIR_TIME: keep NaN where missing\n",
    "# (no imputation, just ensure column exists)\n",
    "df['ELAPSED_TIME'] = df['ELAPSED_TIME'].replace({0: np.nan})\n",
    "df['AIR_TIME'] = df['AIR_TIME'].replace({0: np.nan})\n",
    "\n",
    "# 3️⃣ Delay due columns: fill NaN with 0\n",
    "delay_due_cols = [\n",
    "    'DELAY_DUE_CARRIER',\n",
    "    'DELAY_DUE_WEATHER',\n",
    "    'DELAY_DUE_NAS',\n",
    "    'DELAY_DUE_SECURITY',\n",
    "    'DELAY_DUE_LATE_AIRCRAFT'\n",
    "]\n",
    "\n",
    "df[delay_due_cols] = df[delay_due_cols].fillna(0)\n",
    "\n",
    "\n"
   ]
  },
  {
   "cell_type": "code",
   "execution_count": 39,
   "id": "c03ff509-e486-4948-abfd-7c5ae70e94c0",
   "metadata": {},
   "outputs": [
    {
     "data": {
      "text/plain": [
       "FL_DATE                        0\n",
       "AIRLINE                        0\n",
       "AIRLINE_DOT                    0\n",
       "AIRLINE_CODE                   0\n",
       "DOT_CODE                       0\n",
       "FL_NUMBER                      0\n",
       "ORIGIN                         0\n",
       "ORIGIN_CITY                    0\n",
       "DEST                           0\n",
       "DEST_CITY                      0\n",
       "CANCELLED                      0\n",
       "CANCELLATION_CODE              0\n",
       "DIVERTED                       0\n",
       "CRS_ELAPSED_TIME               7\n",
       "ELAPSED_TIME               27048\n",
       "AIR_TIME                   27048\n",
       "DISTANCE                       0\n",
       "DELAY_DUE_CARRIER              0\n",
       "DELAY_DUE_WEATHER              0\n",
       "DELAY_DUE_NAS                  0\n",
       "DELAY_DUE_SECURITY             0\n",
       "DELAY_DUE_LATE_AIRCRAFT        0\n",
       "CRS_DEP_TIME_CLEAN             0\n",
       "DEP_TIME_CLEAN             27048\n",
       "DEP_DELAY_CLEAN            27048\n",
       "TAXI_OUT_CLEAN             27048\n",
       "WHEELS_OFF_CLEAN           27048\n",
       "WHEELS_ON_CLEAN            27048\n",
       "TAXI_IN_CLEAN              27048\n",
       "ARR_TIME_CLEAN             27048\n",
       "ARR_DELAY_CLEAN            27048\n",
       "CRS_ARR_TIME_CLEAN             0\n",
       "dtype: int64"
      ]
     },
     "execution_count": 39,
     "metadata": {},
     "output_type": "execute_result"
    }
   ],
   "source": [
    "df.isnull().sum()"
   ]
  },
  {
   "cell_type": "markdown",
   "id": "4c6af7f6-38a4-467e-8c43-ab375edea945",
   "metadata": {},
   "source": [
    "<span style=\"color:yellow; font-size:20px;\">FEATURE EXTRACTION(DAY, HOUR, ROUTE)</span>\n",
    "\n"
   ]
  },
  {
   "cell_type": "code",
   "execution_count": 40,
   "id": "6e1c7d57-3ab6-482a-a6c5-7c0b386d7f4b",
   "metadata": {},
   "outputs": [
    {
     "name": "stdout",
     "output_type": "stream",
     "text": [
      "Rows with invalid dates: Empty DataFrame\n",
      "Columns: [FL_DATE, AIRLINE, AIRLINE_DOT, AIRLINE_CODE, DOT_CODE, FL_NUMBER, ORIGIN, ORIGIN_CITY, DEST, DEST_CITY, CANCELLED, CANCELLATION_CODE, DIVERTED, CRS_ELAPSED_TIME, ELAPSED_TIME, AIR_TIME, DISTANCE, DELAY_DUE_CARRIER, DELAY_DUE_WEATHER, DELAY_DUE_NAS, DELAY_DUE_SECURITY, DELAY_DUE_LATE_AIRCRAFT, CRS_DEP_TIME_CLEAN, DEP_TIME_CLEAN, DEP_DELAY_CLEAN, TAXI_OUT_CLEAN, WHEELS_OFF_CLEAN, WHEELS_ON_CLEAN, TAXI_IN_CLEAN, ARR_TIME_CLEAN, ARR_DELAY_CLEAN, CRS_ARR_TIME_CLEAN]\n",
      "Index: []\n",
      "\n",
      "[0 rows x 32 columns]\n"
     ]
    }
   ],
   "source": [
    "#MONTH AND DAY OF WEEK\n",
    "# Convert FL_DATE to datetime, letting pandas infer the format\n",
    "df['FL_DATE'] = pd.to_datetime(df['FL_DATE'], errors='coerce', dayfirst=True)\n",
    "\n",
    "# Check for rows that failed to parse\n",
    "invalid_dates = df[df['FL_DATE'].isna()]\n",
    "print(\"Rows with invalid dates:\", invalid_dates)"
   ]
  },
  {
   "cell_type": "code",
   "execution_count": 41,
   "id": "f7fde74c-8149-4210-a9d2-8a2b1ee4642d",
   "metadata": {},
   "outputs": [
    {
     "data": {
      "text/html": [
       "<div>\n",
       "<style scoped>\n",
       "    .dataframe tbody tr th:only-of-type {\n",
       "        vertical-align: middle;\n",
       "    }\n",
       "\n",
       "    .dataframe tbody tr th {\n",
       "        vertical-align: top;\n",
       "    }\n",
       "\n",
       "    .dataframe thead th {\n",
       "        text-align: right;\n",
       "    }\n",
       "</style>\n",
       "<table border=\"1\" class=\"dataframe\">\n",
       "  <thead>\n",
       "    <tr style=\"text-align: right;\">\n",
       "      <th></th>\n",
       "      <th>FL_DATE</th>\n",
       "      <th>AIRLINE</th>\n",
       "      <th>AIRLINE_DOT</th>\n",
       "      <th>AIRLINE_CODE</th>\n",
       "      <th>DOT_CODE</th>\n",
       "      <th>FL_NUMBER</th>\n",
       "      <th>ORIGIN</th>\n",
       "      <th>ORIGIN_CITY</th>\n",
       "      <th>DEST</th>\n",
       "      <th>DEST_CITY</th>\n",
       "      <th>...</th>\n",
       "      <th>DEP_DELAY_CLEAN</th>\n",
       "      <th>TAXI_OUT_CLEAN</th>\n",
       "      <th>WHEELS_OFF_CLEAN</th>\n",
       "      <th>WHEELS_ON_CLEAN</th>\n",
       "      <th>TAXI_IN_CLEAN</th>\n",
       "      <th>ARR_TIME_CLEAN</th>\n",
       "      <th>ARR_DELAY_CLEAN</th>\n",
       "      <th>CRS_ARR_TIME_CLEAN</th>\n",
       "      <th>MONTH</th>\n",
       "      <th>DAY_OF_WEEK</th>\n",
       "    </tr>\n",
       "  </thead>\n",
       "  <tbody>\n",
       "    <tr>\n",
       "      <th>0</th>\n",
       "      <td>2019-01-01</td>\n",
       "      <td>Delta Air Lines Inc.</td>\n",
       "      <td>Delta Air Lines Inc.: DL</td>\n",
       "      <td>DL</td>\n",
       "      <td>19790</td>\n",
       "      <td>345</td>\n",
       "      <td>ATL</td>\n",
       "      <td>Atlanta, GA</td>\n",
       "      <td>DAB</td>\n",
       "      <td>Daytona Beach, FL</td>\n",
       "      <td>...</td>\n",
       "      <td>-4.0</td>\n",
       "      <td>12.0</td>\n",
       "      <td>09:47</td>\n",
       "      <td>10:41</td>\n",
       "      <td>3.0</td>\n",
       "      <td>10:44</td>\n",
       "      <td>-11.0</td>\n",
       "      <td>10:55</td>\n",
       "      <td>1</td>\n",
       "      <td>1</td>\n",
       "    </tr>\n",
       "    <tr>\n",
       "      <th>1</th>\n",
       "      <td>2019-01-01</td>\n",
       "      <td>Southwest Airlines Co.</td>\n",
       "      <td>Southwest Airlines Co.: WN</td>\n",
       "      <td>WN</td>\n",
       "      <td>19393</td>\n",
       "      <td>1780</td>\n",
       "      <td>BHM</td>\n",
       "      <td>Birmingham, AL</td>\n",
       "      <td>MDW</td>\n",
       "      <td>Chicago, IL</td>\n",
       "      <td>...</td>\n",
       "      <td>NaN</td>\n",
       "      <td>NaN</td>\n",
       "      <td>NaN</td>\n",
       "      <td>NaN</td>\n",
       "      <td>NaN</td>\n",
       "      <td>NaN</td>\n",
       "      <td>NaN</td>\n",
       "      <td>19:25</td>\n",
       "      <td>1</td>\n",
       "      <td>1</td>\n",
       "    </tr>\n",
       "    <tr>\n",
       "      <th>2</th>\n",
       "      <td>2019-01-01</td>\n",
       "      <td>United Air Lines Inc.</td>\n",
       "      <td>United Air Lines Inc.: UA</td>\n",
       "      <td>UA</td>\n",
       "      <td>19977</td>\n",
       "      <td>438</td>\n",
       "      <td>IAH</td>\n",
       "      <td>Houston, TX</td>\n",
       "      <td>SEA</td>\n",
       "      <td>Seattle, WA</td>\n",
       "      <td>...</td>\n",
       "      <td>-5.0</td>\n",
       "      <td>21.0</td>\n",
       "      <td>09:51</td>\n",
       "      <td>12:02</td>\n",
       "      <td>9.0</td>\n",
       "      <td>12:11</td>\n",
       "      <td>-18.0</td>\n",
       "      <td>12:29</td>\n",
       "      <td>1</td>\n",
       "      <td>1</td>\n",
       "    </tr>\n",
       "    <tr>\n",
       "      <th>3</th>\n",
       "      <td>2019-01-01</td>\n",
       "      <td>American Airlines Inc.</td>\n",
       "      <td>American Airlines Inc.: AA</td>\n",
       "      <td>AA</td>\n",
       "      <td>19805</td>\n",
       "      <td>1674</td>\n",
       "      <td>LAX</td>\n",
       "      <td>Los Angeles, CA</td>\n",
       "      <td>CLT</td>\n",
       "      <td>Charlotte, NC</td>\n",
       "      <td>...</td>\n",
       "      <td>2.0</td>\n",
       "      <td>15.0</td>\n",
       "      <td>11:53</td>\n",
       "      <td>18:56</td>\n",
       "      <td>16.0</td>\n",
       "      <td>19:12</td>\n",
       "      <td>-3.0</td>\n",
       "      <td>19:15</td>\n",
       "      <td>1</td>\n",
       "      <td>1</td>\n",
       "    </tr>\n",
       "    <tr>\n",
       "      <th>4</th>\n",
       "      <td>2019-01-01</td>\n",
       "      <td>Southwest Airlines Co.</td>\n",
       "      <td>Southwest Airlines Co.: WN</td>\n",
       "      <td>WN</td>\n",
       "      <td>19393</td>\n",
       "      <td>1283</td>\n",
       "      <td>MDW</td>\n",
       "      <td>Chicago, IL</td>\n",
       "      <td>LGA</td>\n",
       "      <td>New York, NY</td>\n",
       "      <td>...</td>\n",
       "      <td>117.0</td>\n",
       "      <td>31.0</td>\n",
       "      <td>19:33</td>\n",
       "      <td>21:54</td>\n",
       "      <td>5.0</td>\n",
       "      <td>21:59</td>\n",
       "      <td>119.0</td>\n",
       "      <td>20:00</td>\n",
       "      <td>1</td>\n",
       "      <td>1</td>\n",
       "    </tr>\n",
       "  </tbody>\n",
       "</table>\n",
       "<p>5 rows × 34 columns</p>\n",
       "</div>"
      ],
      "text/plain": [
       "     FL_DATE                 AIRLINE                 AIRLINE_DOT AIRLINE_CODE  \\\n",
       "0 2019-01-01    Delta Air Lines Inc.    Delta Air Lines Inc.: DL           DL   \n",
       "1 2019-01-01  Southwest Airlines Co.  Southwest Airlines Co.: WN           WN   \n",
       "2 2019-01-01   United Air Lines Inc.   United Air Lines Inc.: UA           UA   \n",
       "3 2019-01-01  American Airlines Inc.  American Airlines Inc.: AA           AA   \n",
       "4 2019-01-01  Southwest Airlines Co.  Southwest Airlines Co.: WN           WN   \n",
       "\n",
       "   DOT_CODE  FL_NUMBER ORIGIN      ORIGIN_CITY DEST          DEST_CITY  ...  \\\n",
       "0     19790        345    ATL      Atlanta, GA  DAB  Daytona Beach, FL  ...   \n",
       "1     19393       1780    BHM   Birmingham, AL  MDW        Chicago, IL  ...   \n",
       "2     19977        438    IAH      Houston, TX  SEA        Seattle, WA  ...   \n",
       "3     19805       1674    LAX  Los Angeles, CA  CLT      Charlotte, NC  ...   \n",
       "4     19393       1283    MDW      Chicago, IL  LGA       New York, NY  ...   \n",
       "\n",
       "   DEP_DELAY_CLEAN TAXI_OUT_CLEAN  WHEELS_OFF_CLEAN  WHEELS_ON_CLEAN  \\\n",
       "0             -4.0           12.0             09:47            10:41   \n",
       "1              NaN            NaN               NaN              NaN   \n",
       "2             -5.0           21.0             09:51            12:02   \n",
       "3              2.0           15.0             11:53            18:56   \n",
       "4            117.0           31.0             19:33            21:54   \n",
       "\n",
       "   TAXI_IN_CLEAN  ARR_TIME_CLEAN  ARR_DELAY_CLEAN  CRS_ARR_TIME_CLEAN  MONTH  \\\n",
       "0            3.0           10:44            -11.0               10:55      1   \n",
       "1            NaN             NaN              NaN               19:25      1   \n",
       "2            9.0           12:11            -18.0               12:29      1   \n",
       "3           16.0           19:12             -3.0               19:15      1   \n",
       "4            5.0           21:59            119.0               20:00      1   \n",
       "\n",
       "   DAY_OF_WEEK  \n",
       "0            1  \n",
       "1            1  \n",
       "2            1  \n",
       "3            1  \n",
       "4            1  \n",
       "\n",
       "[5 rows x 34 columns]"
      ]
     },
     "execution_count": 41,
     "metadata": {},
     "output_type": "execute_result"
    }
   ],
   "source": [
    "# Extract Month and Day of Week\n",
    "df['MONTH'] = df['FL_DATE'].dt.month\n",
    "df['DAY_OF_WEEK'] = df['FL_DATE'].dt.dayofweek  # 0=Monday\n",
    "df.head()"
   ]
  },
  {
   "cell_type": "code",
   "execution_count": 42,
   "id": "3023f36e-0838-4297-a201-f3ba1a0c9ec3",
   "metadata": {},
   "outputs": [
    {
     "name": "stdout",
     "output_type": "stream",
     "text": [
      "  ORIGIN DEST    Route\n",
      "0    ATL  DAB  ATL-DAB\n",
      "1    BHM  MDW  BHM-MDW\n",
      "2    IAH  SEA  IAH-SEA\n",
      "3    LAX  CLT  LAX-CLT\n",
      "4    MDW  LGA  MDW-LGA\n"
     ]
    }
   ],
   "source": [
    "#ROUTE\n",
    "# Create Route as ORIGIN-DEST\n",
    "df['Route'] = df['ORIGIN'] + '-' + df['DEST']\n",
    "\n",
    "# Check the first few rows\n",
    "print(df[['ORIGIN', 'DEST', 'Route']].head())\n"
   ]
  },
  {
   "cell_type": "code",
   "execution_count": 43,
   "id": "b397ac81-e055-4e97-b042-47c6e1e97047",
   "metadata": {},
   "outputs": [
    {
     "data": {
      "text/plain": [
       "1045618"
      ]
     },
     "execution_count": 43,
     "metadata": {},
     "output_type": "execute_result"
    }
   ],
   "source": [
    "df.shape[0]"
   ]
  },
  {
   "cell_type": "code",
   "execution_count": 44,
   "id": "b16249f8-df7a-4bf5-899d-b3b7268d88d8",
   "metadata": {},
   "outputs": [
    {
     "data": {
      "text/plain": [
       "35"
      ]
     },
     "execution_count": 44,
     "metadata": {},
     "output_type": "execute_result"
    }
   ],
   "source": [
    "df.shape[1]"
   ]
  },
  {
   "cell_type": "code",
   "execution_count": 45,
   "id": "f8dd6d85-65de-4ec3-ae38-f4ef41ebe51c",
   "metadata": {},
   "outputs": [
    {
     "data": {
      "text/html": [
       "<div>\n",
       "<style scoped>\n",
       "    .dataframe tbody tr th:only-of-type {\n",
       "        vertical-align: middle;\n",
       "    }\n",
       "\n",
       "    .dataframe tbody tr th {\n",
       "        vertical-align: top;\n",
       "    }\n",
       "\n",
       "    .dataframe thead th {\n",
       "        text-align: right;\n",
       "    }\n",
       "</style>\n",
       "<table border=\"1\" class=\"dataframe\">\n",
       "  <thead>\n",
       "    <tr style=\"text-align: right;\">\n",
       "      <th></th>\n",
       "      <th>FL_DATE</th>\n",
       "      <th>AIRLINE</th>\n",
       "      <th>AIRLINE_DOT</th>\n",
       "      <th>AIRLINE_CODE</th>\n",
       "      <th>DOT_CODE</th>\n",
       "      <th>FL_NUMBER</th>\n",
       "      <th>ORIGIN</th>\n",
       "      <th>ORIGIN_CITY</th>\n",
       "      <th>DEST</th>\n",
       "      <th>DEST_CITY</th>\n",
       "      <th>...</th>\n",
       "      <th>TAXI_OUT_CLEAN</th>\n",
       "      <th>WHEELS_OFF_CLEAN</th>\n",
       "      <th>WHEELS_ON_CLEAN</th>\n",
       "      <th>TAXI_IN_CLEAN</th>\n",
       "      <th>ARR_TIME_CLEAN</th>\n",
       "      <th>ARR_DELAY_CLEAN</th>\n",
       "      <th>CRS_ARR_TIME_CLEAN</th>\n",
       "      <th>MONTH</th>\n",
       "      <th>DAY_OF_WEEK</th>\n",
       "      <th>Route</th>\n",
       "    </tr>\n",
       "  </thead>\n",
       "  <tbody>\n",
       "    <tr>\n",
       "      <th>0</th>\n",
       "      <td>2019-01-01</td>\n",
       "      <td>Delta Air Lines Inc.</td>\n",
       "      <td>Delta Air Lines Inc.: DL</td>\n",
       "      <td>DL</td>\n",
       "      <td>19790</td>\n",
       "      <td>345</td>\n",
       "      <td>ATL</td>\n",
       "      <td>Atlanta, GA</td>\n",
       "      <td>DAB</td>\n",
       "      <td>Daytona Beach, FL</td>\n",
       "      <td>...</td>\n",
       "      <td>12.0</td>\n",
       "      <td>09:47</td>\n",
       "      <td>10:41</td>\n",
       "      <td>3.0</td>\n",
       "      <td>10:44</td>\n",
       "      <td>-11.0</td>\n",
       "      <td>10:55</td>\n",
       "      <td>1</td>\n",
       "      <td>1</td>\n",
       "      <td>ATL-DAB</td>\n",
       "    </tr>\n",
       "    <tr>\n",
       "      <th>1</th>\n",
       "      <td>2019-01-01</td>\n",
       "      <td>Southwest Airlines Co.</td>\n",
       "      <td>Southwest Airlines Co.: WN</td>\n",
       "      <td>WN</td>\n",
       "      <td>19393</td>\n",
       "      <td>1780</td>\n",
       "      <td>BHM</td>\n",
       "      <td>Birmingham, AL</td>\n",
       "      <td>MDW</td>\n",
       "      <td>Chicago, IL</td>\n",
       "      <td>...</td>\n",
       "      <td>NaN</td>\n",
       "      <td>NaN</td>\n",
       "      <td>NaN</td>\n",
       "      <td>NaN</td>\n",
       "      <td>NaN</td>\n",
       "      <td>NaN</td>\n",
       "      <td>19:25</td>\n",
       "      <td>1</td>\n",
       "      <td>1</td>\n",
       "      <td>BHM-MDW</td>\n",
       "    </tr>\n",
       "    <tr>\n",
       "      <th>2</th>\n",
       "      <td>2019-01-01</td>\n",
       "      <td>United Air Lines Inc.</td>\n",
       "      <td>United Air Lines Inc.: UA</td>\n",
       "      <td>UA</td>\n",
       "      <td>19977</td>\n",
       "      <td>438</td>\n",
       "      <td>IAH</td>\n",
       "      <td>Houston, TX</td>\n",
       "      <td>SEA</td>\n",
       "      <td>Seattle, WA</td>\n",
       "      <td>...</td>\n",
       "      <td>21.0</td>\n",
       "      <td>09:51</td>\n",
       "      <td>12:02</td>\n",
       "      <td>9.0</td>\n",
       "      <td>12:11</td>\n",
       "      <td>-18.0</td>\n",
       "      <td>12:29</td>\n",
       "      <td>1</td>\n",
       "      <td>1</td>\n",
       "      <td>IAH-SEA</td>\n",
       "    </tr>\n",
       "    <tr>\n",
       "      <th>3</th>\n",
       "      <td>2019-01-01</td>\n",
       "      <td>American Airlines Inc.</td>\n",
       "      <td>American Airlines Inc.: AA</td>\n",
       "      <td>AA</td>\n",
       "      <td>19805</td>\n",
       "      <td>1674</td>\n",
       "      <td>LAX</td>\n",
       "      <td>Los Angeles, CA</td>\n",
       "      <td>CLT</td>\n",
       "      <td>Charlotte, NC</td>\n",
       "      <td>...</td>\n",
       "      <td>15.0</td>\n",
       "      <td>11:53</td>\n",
       "      <td>18:56</td>\n",
       "      <td>16.0</td>\n",
       "      <td>19:12</td>\n",
       "      <td>-3.0</td>\n",
       "      <td>19:15</td>\n",
       "      <td>1</td>\n",
       "      <td>1</td>\n",
       "      <td>LAX-CLT</td>\n",
       "    </tr>\n",
       "    <tr>\n",
       "      <th>4</th>\n",
       "      <td>2019-01-01</td>\n",
       "      <td>Southwest Airlines Co.</td>\n",
       "      <td>Southwest Airlines Co.: WN</td>\n",
       "      <td>WN</td>\n",
       "      <td>19393</td>\n",
       "      <td>1283</td>\n",
       "      <td>MDW</td>\n",
       "      <td>Chicago, IL</td>\n",
       "      <td>LGA</td>\n",
       "      <td>New York, NY</td>\n",
       "      <td>...</td>\n",
       "      <td>31.0</td>\n",
       "      <td>19:33</td>\n",
       "      <td>21:54</td>\n",
       "      <td>5.0</td>\n",
       "      <td>21:59</td>\n",
       "      <td>119.0</td>\n",
       "      <td>20:00</td>\n",
       "      <td>1</td>\n",
       "      <td>1</td>\n",
       "      <td>MDW-LGA</td>\n",
       "    </tr>\n",
       "  </tbody>\n",
       "</table>\n",
       "<p>5 rows × 35 columns</p>\n",
       "</div>"
      ],
      "text/plain": [
       "     FL_DATE                 AIRLINE                 AIRLINE_DOT AIRLINE_CODE  \\\n",
       "0 2019-01-01    Delta Air Lines Inc.    Delta Air Lines Inc.: DL           DL   \n",
       "1 2019-01-01  Southwest Airlines Co.  Southwest Airlines Co.: WN           WN   \n",
       "2 2019-01-01   United Air Lines Inc.   United Air Lines Inc.: UA           UA   \n",
       "3 2019-01-01  American Airlines Inc.  American Airlines Inc.: AA           AA   \n",
       "4 2019-01-01  Southwest Airlines Co.  Southwest Airlines Co.: WN           WN   \n",
       "\n",
       "   DOT_CODE  FL_NUMBER ORIGIN      ORIGIN_CITY DEST          DEST_CITY  ...  \\\n",
       "0     19790        345    ATL      Atlanta, GA  DAB  Daytona Beach, FL  ...   \n",
       "1     19393       1780    BHM   Birmingham, AL  MDW        Chicago, IL  ...   \n",
       "2     19977        438    IAH      Houston, TX  SEA        Seattle, WA  ...   \n",
       "3     19805       1674    LAX  Los Angeles, CA  CLT      Charlotte, NC  ...   \n",
       "4     19393       1283    MDW      Chicago, IL  LGA       New York, NY  ...   \n",
       "\n",
       "   TAXI_OUT_CLEAN WHEELS_OFF_CLEAN  WHEELS_ON_CLEAN  TAXI_IN_CLEAN  \\\n",
       "0            12.0            09:47            10:41            3.0   \n",
       "1             NaN              NaN              NaN            NaN   \n",
       "2            21.0            09:51            12:02            9.0   \n",
       "3            15.0            11:53            18:56           16.0   \n",
       "4            31.0            19:33            21:54            5.0   \n",
       "\n",
       "   ARR_TIME_CLEAN  ARR_DELAY_CLEAN  CRS_ARR_TIME_CLEAN  MONTH  DAY_OF_WEEK  \\\n",
       "0           10:44            -11.0               10:55      1            1   \n",
       "1             NaN              NaN               19:25      1            1   \n",
       "2           12:11            -18.0               12:29      1            1   \n",
       "3           19:12             -3.0               19:15      1            1   \n",
       "4           21:59            119.0               20:00      1            1   \n",
       "\n",
       "     Route  \n",
       "0  ATL-DAB  \n",
       "1  BHM-MDW  \n",
       "2  IAH-SEA  \n",
       "3  LAX-CLT  \n",
       "4  MDW-LGA  \n",
       "\n",
       "[5 rows x 35 columns]"
      ]
     },
     "execution_count": 45,
     "metadata": {},
     "output_type": "execute_result"
    }
   ],
   "source": [
    "df.head()"
   ]
  },
  {
   "cell_type": "code",
   "execution_count": 46,
   "id": "4d2e1093-b4a2-4085-b38a-edf1e9b4f945",
   "metadata": {},
   "outputs": [
    {
     "data": {
      "text/plain": [
       "FL_DATE                        0\n",
       "AIRLINE                        0\n",
       "AIRLINE_DOT                    0\n",
       "AIRLINE_CODE                   0\n",
       "DOT_CODE                       0\n",
       "FL_NUMBER                      0\n",
       "ORIGIN                         0\n",
       "ORIGIN_CITY                    0\n",
       "DEST                           0\n",
       "DEST_CITY                      0\n",
       "CANCELLED                      0\n",
       "CANCELLATION_CODE              0\n",
       "DIVERTED                       0\n",
       "CRS_ELAPSED_TIME               7\n",
       "ELAPSED_TIME               27048\n",
       "AIR_TIME                   27048\n",
       "DISTANCE                       0\n",
       "DELAY_DUE_CARRIER              0\n",
       "DELAY_DUE_WEATHER              0\n",
       "DELAY_DUE_NAS                  0\n",
       "DELAY_DUE_SECURITY             0\n",
       "DELAY_DUE_LATE_AIRCRAFT        0\n",
       "CRS_DEP_TIME_CLEAN             0\n",
       "DEP_TIME_CLEAN             27048\n",
       "DEP_DELAY_CLEAN            27048\n",
       "TAXI_OUT_CLEAN             27048\n",
       "WHEELS_OFF_CLEAN           27048\n",
       "WHEELS_ON_CLEAN            27048\n",
       "TAXI_IN_CLEAN              27048\n",
       "ARR_TIME_CLEAN             27048\n",
       "ARR_DELAY_CLEAN            27048\n",
       "CRS_ARR_TIME_CLEAN             0\n",
       "MONTH                          0\n",
       "DAY_OF_WEEK                    0\n",
       "Route                          0\n",
       "dtype: int64"
      ]
     },
     "execution_count": 46,
     "metadata": {},
     "output_type": "execute_result"
    }
   ],
   "source": [
    "df.isnull().sum()"
   ]
  },
  {
   "cell_type": "markdown",
   "id": "87e9e0d9-1107-46cb-9533-ffd8801d1ad2",
   "metadata": {},
   "source": [
    "<span style=\"color:yellow; font-size:20px;\">SAVING</span>\n",
    "\n"
   ]
  },
  {
   "cell_type": "code",
   "execution_count": 47,
   "id": "222419f2-0073-4b86-93b2-de77c43031f4",
   "metadata": {},
   "outputs": [],
   "source": [
    "df.to_csv(\"Preprocessed_data(For Cancellation Analysis).csv\", index=False)\n"
   ]
  },
  {
   "cell_type": "markdown",
   "id": "14935079-6d94-438d-b147-9923d2baeec6",
   "metadata": {},
   "source": [
    "<span style=\"color:yellow; font-size:20px;\">FEATURE DICTIONARY</span>\n",
    "\n"
   ]
  },
  {
   "cell_type": "code",
   "execution_count": 48,
   "id": "9625f4c2-9f33-4b53-a3ff-bf9f65fa4480",
   "metadata": {},
   "outputs": [
    {
     "name": "stdout",
     "output_type": "stream",
     "text": [
      "Feature dictionary saved as 'Feature_Dictionary(For Cancellation Analysis).csv'\n"
     ]
    }
   ],
   "source": [
    "import pandas as pd\n",
    "\n",
    "# Save the preprocessed dataset\n",
    "df.to_csv(\"Preprocessed_data(For Cancellation Analysis).csv\", index=False)\n",
    "\n",
    "# ==========================\n",
    "# Create feature dictionary\n",
    "# ==========================\n",
    "feature_dict = pd.DataFrame({\n",
    "    'Feature': df.columns,\n",
    "    'Data_Type': df.dtypes.astype(str),\n",
    "    'Description': [\n",
    "        'Flight date (datetime)',\n",
    "        'Airline name',\n",
    "        'Airline DOT description',\n",
    "        'Airline code (IATA)',\n",
    "        'DOT code (numeric identifier)',\n",
    "        'Flight number',\n",
    "        'Origin airport code',\n",
    "        'Origin city',\n",
    "        'Destination airport code',\n",
    "        'Destination city',\n",
    "        'Cancelled (0=No,1=Yes)',\n",
    "        'Cancellation code (A/B/C/D/N)',\n",
    "        'Diverted (0=No,1=Yes)',\n",
    "        'CRS elapsed time (scheduled)',\n",
    "        'Elapsed time in minutes (actual, NaN if missing)',\n",
    "        'Air time in minutes (actual, NaN if missing)',\n",
    "        'Distance in miles',\n",
    "        'Delay due to carrier (minutes, 0 if missing)',\n",
    "        'Delay due to weather (minutes, 0 if missing)',\n",
    "        'Delay due to NAS (minutes, 0 if missing)',\n",
    "        'Delay due to security (minutes, 0 if missing)',\n",
    "        'Delay due to late aircraft (minutes, 0 if missing)',\n",
    "        'Scheduled departure time (HH:MM)',\n",
    "        'Actual departure time (HH:MM)',\n",
    "        'Departure delay (minutes)',\n",
    "        'Taxi out time (minutes)',\n",
    "        'Wheels off time (HH:MM)',\n",
    "        'Wheels on time (HH:MM)',\n",
    "        'Taxi in time (minutes)',\n",
    "        'Actual arrival time (HH:MM)',\n",
    "        'Arrival delay (minutes)',\n",
    "        'Scheduled arrival time (HH:MM)',\n",
    "        'Month of flight (1-12)',\n",
    "        'Day of week (0=Monday,6=Sunday)',\n",
    "        'Route (Origin-Destination)'\n",
    "    ]\n",
    "})\n",
    "\n",
    "# Save feature dictionary to CSV\n",
    "feature_dict.to_csv(\"Feature_Dictionary(For Cancellation Analysis).csv\", index=False)\n",
    "print(\"Feature dictionary saved as 'Feature_Dictionary(For Cancellation Analysis).csv'\")\n"
   ]
  },
  {
   "cell_type": "markdown",
   "id": "c1682000-a88b-49bb-93ee-67e0f1d9a681",
   "metadata": {},
   "source": [
    "<span style=\"color:yellow; font-size:20px;\">UNIVARIATE AND BIVARIATE ANALYSIS</span>\n",
    "\n"
   ]
  },
  {
   "cell_type": "code",
   "execution_count": 49,
   "id": "d1e83fb6-5b59-4fab-b856-9d32ecbad884",
   "metadata": {},
   "outputs": [
    {
     "name": "stderr",
     "output_type": "stream",
     "text": [
      "C:\\Users\\dandu\\AppData\\Local\\Temp\\ipykernel_17352\\2127134046.py:9: FutureWarning: \n",
      "\n",
      "Passing `palette` without assigning `hue` is deprecated and will be removed in v0.14.0. Assign the `x` variable to `hue` and set `legend=False` for the same effect.\n",
      "\n",
      "  sns.barplot(data=monthly_cancel, x='MONTH', y='CANCELLED', palette='coolwarm')\n"
     ]
    },
    {
     "data": {
      "image/png": "[encoded data removed]",
      "text/plain": [
       "<Figure size 1000x600 with 1 Axes>"
      ]
     },
     "metadata": {},
     "output_type": "display_data"
    }
   ],
   "source": [
    "import matplotlib.pyplot as plt\n",
    "import seaborn as sns\n",
    "\n",
    "# Monthly cancellation counts\n",
    "monthly_cancel = df.groupby('MONTH')['CANCELLED'].sum().reset_index()\n",
    "\n",
    "# Plot\n",
    "plt.figure(figsize=(10,6))\n",
    "sns.barplot(data=monthly_cancel, x='MONTH', y='CANCELLED', palette='coolwarm')\n",
    "plt.title(\"Monthly Cancellation Trends\")\n",
    "plt.xlabel(\"Month\")\n",
    "plt.ylabel(\"Number of Cancelled Flights\")\n",
    "plt.show()\n"
   ]
  },
  {
   "cell_type": "code",
   "execution_count": 50,
   "id": "f95ee46b-d7ad-411a-88c1-cac5cbbd50b6",
   "metadata": {},
   "outputs": [
    {
     "name": "stderr",
     "output_type": "stream",
     "text": [
      "C:\\Users\\dandu\\AppData\\Local\\Temp\\ipykernel_17352\\1254344246.py:15: FutureWarning: \n",
      "\n",
      "Passing `palette` without assigning `hue` is deprecated and will be removed in v0.14.0. Assign the `x` variable to `hue` and set `legend=False` for the same effect.\n",
      "\n",
      "  sns.barplot(data=cancel_types, x='Cancellation_Type', y='Count', palette='Set2')\n"
     ]
    },
    {
     "data": {
      "image/png": "[encoded data removed]",
      "text/plain": [
       "<Figure size 800x600 with 1 Axes>"
      ]
     },
     "metadata": {},
     "output_type": "display_data"
    }
   ],
   "source": [
    "# Count cancellations by type (exclude 'N')\n",
    "cancel_types = df[df['CANCELLATION_CODE'] != 'N']['CANCELLATION_CODE'].value_counts().reset_index()\n",
    "cancel_types.columns = ['Cancellation_Type', 'Count']\n",
    "\n",
    "# Map codes to descriptions\n",
    "cancel_types['Cancellation_Type'] = cancel_types['Cancellation_Type'].map({\n",
    "    'A': 'Carrier',\n",
    "    'B': 'Weather',\n",
    "    'C': 'NAS',\n",
    "    'D': 'Security'\n",
    "})\n",
    "\n",
    "# Plot\n",
    "plt.figure(figsize=(8,6))\n",
    "sns.barplot(data=cancel_types, x='Cancellation_Type', y='Count', palette='Set2')\n",
    "plt.title(\"Cancellations by Type\")\n",
    "plt.ylabel(\"Number of Cancelled Flights\")\n",
    "plt.show()\n"
   ]
  },
  {
   "cell_type": "code",
   "execution_count": 51,
   "id": "839cec72-9a68-4e86-b12d-91cf9058ce0e",
   "metadata": {},
   "outputs": [
    {
     "name": "stderr",
     "output_type": "stream",
     "text": [
      "C:\\Users\\dandu\\AppData\\Local\\Temp\\ipykernel_17352\\4053691174.py:10: FutureWarning: \n",
      "\n",
      "Passing `palette` without assigning `hue` is deprecated and will be removed in v0.14.0. Assign the `x` variable to `hue` and set `legend=False` for the same effect.\n",
      "\n",
      "  sns.barplot(data=winter_cancel, x='Period', y='CANCELLED', palette='Blues')\n"
     ]
    },
    {
     "data": {
      "image/png": "[encoded data removed]",
      "text/plain": [
       "<Figure size 600x500 with 1 Axes>"
      ]
     },
     "metadata": {},
     "output_type": "display_data"
    }
   ],
   "source": [
    "# Define winter months\n",
    "df['is_winter'] = df['MONTH'].isin([12, 1, 2]).astype(int)\n",
    "\n",
    "# Total cancellations in winter vs other months\n",
    "winter_cancel = df.groupby('is_winter')['CANCELLED'].sum().reset_index()\n",
    "winter_cancel['Period'] = winter_cancel['is_winter'].map({0:'Other Months', 1:'Winter'})\n",
    "\n",
    "# Plot\n",
    "plt.figure(figsize=(6,5))\n",
    "sns.barplot(data=winter_cancel, x='Period', y='CANCELLED', palette='Blues')\n",
    "plt.title(\"Cancellations: Winter vs Other Months\")\n",
    "plt.ylabel(\"Number of Cancelled Flights\")\n",
    "plt.show()\n"
   ]
  },
  {
   "cell_type": "code",
   "execution_count": 52,
   "id": "f120c6fc-f4c4-423b-a201-e264df9e0432",
   "metadata": {},
   "outputs": [
    {
     "name": "stderr",
     "output_type": "stream",
     "text": [
      "C:\\Users\\dandu\\AppData\\Local\\Temp\\ipykernel_17352\\1717622351.py:10: FutureWarning: \n",
      "\n",
      "Passing `palette` without assigning `hue` is deprecated and will be removed in v0.14.0. Assign the `x` variable to `hue` and set `legend=False` for the same effect.\n",
      "\n",
      "  sns.barplot(data=cancel_counts, x='Cancellation_Type', y='Number_of_Flights', palette='Set3')\n"
     ]
    },
    {
     "data": {
      "image/png": "[encoded data removed]",
      "text/plain": [
       "<Figure size 800x600 with 1 Axes>"
      ]
     },
     "metadata": {},
     "output_type": "display_data"
    }
   ],
   "source": [
    "# Map codes to descriptions including 'Not Cancelled'\n",
    "df['Cancellation_Desc'] = df['CANCELLATION_CODE'].map({\n",
    "    'A': 'Carrier', 'B': 'Weather', 'C': 'NAS', 'D': 'Security', 'N': 'Not Cancelled'\n",
    "})\n",
    "\n",
    "cancel_counts = df['Cancellation_Desc'].value_counts().reset_index()\n",
    "cancel_counts.columns = ['Cancellation_Type', 'Number_of_Flights']\n",
    "\n",
    "plt.figure(figsize=(8,6))\n",
    "sns.barplot(data=cancel_counts, x='Cancellation_Type', y='Number_of_Flights', palette='Set3')\n",
    "plt.yscale('log')  # log scale\n",
    "plt.title(\"Number of Flights by Cancellation Code (Log Scale)\")\n",
    "plt.ylabel(\"Number of Flights (log scale)\")\n",
    "plt.show()\n"
   ]
  },
  {
   "cell_type": "code",
   "execution_count": null,
   "id": "4b858575-b662-4a36-8409-6cba326e9fae",
   "metadata": {},
   "outputs": [],
   "source": []
  }
 ],
 "metadata": {
  "kernelspec": {
   "display_name": "Python (airfly)",
   "language": "python",
   "name": "airfly"
  },
  "language_info": {
   "codemirror_mode": {
    "name": "ipython",
    "version": 3
   },
   "file_extension": ".py",
   "mimetype": "text/x-python",
   "name": "python",
   "nbconvert_exporter": "python",
   "pygments_lexer": "ipython3",
   "version": "3.11.13"
  }
 },
 "nbformat": 4,
 "nbformat_minor": 5
}
